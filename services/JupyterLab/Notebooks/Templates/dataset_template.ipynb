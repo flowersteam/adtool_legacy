{
 "cells": [
  {
   "cell_type": "markdown",
   "metadata": {},
   "source": [
    "Dataset template\n",
    "="
   ]
  },
  {
   "cell_type": "markdown",
   "metadata": {},
   "source": [
    "Load dataset\n",
    "-\n",
    "\n",
    "Get path of dataset module <br/>"
   ]
  },
  {
   "cell_type": "code",
   "execution_count": null,
   "metadata": {},
   "outputs": [],
   "source": [
    "#this code must be remove when project will dockerize\n",
    "import os\n",
    "import sys\n",
    "server_path = os.readlink('/proc/%s/cwd' % os.environ['JPY_PARENT_PID'])\n",
    "module_path = os.path.abspath(os.path.join(server_path, '../../libs'))\n",
    "if module_path not in sys.path:\n",
    "    sys.path.append(module_path)"
   ]
  },
  {
   "cell_type": "markdown",
   "metadata": {},
   "source": [
    "And load a dataset in a var (named dataset) with"
   ]
  },
  {
   "cell_type": "markdown",
   "metadata": {},
   "source": [
    "%store -r dataset"
   ]
  },
  {
   "cell_type": "markdown",
   "metadata": {},
   "source": [
    "now you could use dataset"
   ]
  },
  {
   "cell_type": "markdown",
   "metadata": {},
   "source": [
    "A dataset by experiment\n",
    "-\n",
    "You could also acces to a specific dataset.<br/>\n",
    "Linked to an experiment <br/>\n",
    "To do this:<br/>\n",
    "%store -r dataset_expID<br/>\n",
    "\n",
    "Other usefull command: <br/>\n",
    "%store: to see all var could be use <br/>\n",
    "%store -r var: to load var <br/>\n",
    "%store -z: to remove all var definitively <br/>"
   ]
  },
  {
   "cell_type": "markdown",
   "metadata": {},
   "source": [
    "How to use dataset\n",
    "-"
   ]
  },
  {
   "cell_type": "code",
   "execution_count": null,
   "metadata": {},
   "outputs": [],
   "source": [
    "dataset[2] #to access to a dataset element"
   ]
  },
  {
   "cell_type": "code",
   "execution_count": null,
   "metadata": {},
   "outputs": [],
   "source": [
    "dataset.values #return all values"
   ]
  },
  {
   "cell_type": "code",
   "execution_count": null,
   "metadata": {},
   "outputs": [],
   "source": [
    "dataset.filter({'run_idx': 0}) #return all values have seed equal to 0"
   ]
  },
  {
   "cell_type": "code",
   "execution_count": null,
   "metadata": {},
   "outputs": [],
   "source": [
    "#contrary to dataset dataset.stream load data element by element\n",
    "#use it to not overload the RAM \n",
    "for elt in dataset.stream:\n",
    "    print(elt)"
   ]
  },
  {
   "cell_type": "code",
   "execution_count": null,
   "metadata": {},
   "outputs": [],
   "source": [
    "#you could define specific slice like this\n",
    "for elt in dataset.stream[2:4]:\n",
    "    print(elt)"
   ]
  }
 ],
 "metadata": {
  "kernelspec": {
   "display_name": "Python 3",
   "language": "python",
   "name": "python3"
  },
  "language_info": {
   "codemirror_mode": {
    "name": "ipython",
    "version": 3
   },
   "file_extension": ".py",
   "mimetype": "text/x-python",
   "name": "python",
   "nbconvert_exporter": "python",
   "pygments_lexer": "ipython3",
   "version": "3.7.10"
  }
 },
 "nbformat": 4,
 "nbformat_minor": 4
}
