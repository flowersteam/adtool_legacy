{
 "cells": [
  {
   "cell_type": "markdown",
   "metadata": {},
   "source": [
    "ceci est une doc\n",
    "="
   ]
  },
  {
   "cell_type": "code",
   "execution_count": null,
   "metadata": {},
   "outputs": [],
   "source": [
    "print(\"wecome to empty template doc\")"
   ]
  },
  {
   "cell_type": "code",
   "execution_count": null,
   "metadata": {},
   "outputs": [],
   "source": [
    "#this code must be remove when project will dockerize\n",
    "# but for nom it usefull to access dataset\n",
    "import os\n",
    "import sys\n",
    "server_path = os.readlink('/proc/%s/cwd' % os.environ['JPY_PARENT_PID'])\n",
    "module_path = os.path.abspath(os.path.join(server_path, '../../libs'))\n",
    "if module_path not in sys.path:\n",
    "    sys.path.append(module_path)"
   ]
  }
 ],
 "metadata": {
  "kernelspec": {
   "display_name": "Python 3",
   "language": "python",
   "name": "python3"
  },
  "language_info": {
   "codemirror_mode": {
    "name": "ipython",
    "version": 3
   },
   "file_extension": ".py",
   "mimetype": "text/x-python",
   "name": "python",
   "nbconvert_exporter": "python",
   "pygments_lexer": "ipython3",
   "version": "3.7.10"
  }
 },
 "nbformat": 4,
 "nbformat_minor": 4
}
