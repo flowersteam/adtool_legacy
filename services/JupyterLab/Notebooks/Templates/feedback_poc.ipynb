{
 "cells": [
  {
   "cell_type": "code",
   "execution_count": 11,
   "id": "8aee9ad7-2706-4d71-920b-6031c134c774",
   "metadata": {},
   "outputs": [],
   "source": [
    "import requests\n",
    "import json\n",
    "import multiprocessing\n",
    "from time import sleep"
   ]
  },
  {
   "cell_type": "code",
   "execution_count": 2,
   "id": "40b6864f-dccf-4415-829a-4d6b8700f9f4",
   "metadata": {},
   "outputs": [],
   "source": [
    "base_url = \"http://127.0.0.1:5001/data_saves\""
   ]
  },
  {
   "cell_type": "code",
   "execution_count": 6,
   "id": "cccb53c3-16cb-442b-8498-343ec2aa304e",
   "metadata": {},
   "outputs": [],
   "source": [
    "experiment_id = \"\"\n",
    "idx = 1"
   ]
  },
  {
   "cell_type": "code",
   "execution_count": 9,
   "id": "6cb024e4-3221-4812-a779-c8e464223612",
   "metadata": {},
   "outputs": [],
   "source": [
    "# from IPython.display import clear_output\n",
    "# from time import sleep\n",
    "# def see_question():\n",
    "#     while True:\n",
    "#         clear_output(wait=True)\n",
    "#         rep = json.loads(requests.get(url=base_url + \"?filter={\\\"$and\\\":[{\\\"experiment_id\\\": \"+experiment_id+\"}, {\\\"type\\\": \\\"question\\\"}]}\").content)\n",
    "#         print(rep)\n",
    "#         sleep(20)"
   ]
  },
  {
   "cell_type": "code",
   "execution_count": null,
   "id": "ca74b72f-4605-435f-8f48-66d465a4d7b7",
   "metadata": {},
   "outputs": [],
   "source": [
    "# multiprocessing.Process(target=see_question)"
   ]
  },
  {
   "cell_type": "code",
   "execution_count": 7,
   "id": "67f40b39-f0bd-45e9-9976-c01500d4c0d3",
   "metadata": {},
   "outputs": [],
   "source": [
    "response = []\n",
    "while response == None or response == []:\n",
    "    response = json.loads(requests.get(url=base_url + \"?filter={\\\"$and\\\":[{\\\"experiment_id\\\": \"+experiment_id+\"}, {\\\"idx\\\": \"+str(idx)+\"}]}\").content)\n",
    "    sleep(20)\n",
    "idx += 1"
   ]
  },
  {
   "cell_type": "code",
   "execution_count": 5,
   "id": "8c8f9bc3-c898-43c6-bfa4-f65b630e2e77",
   "metadata": {
    "tags": []
   },
   "outputs": [],
   "source": [
    "request_dict = {\n",
    "    \"type\": \"answer\",\n",
    "    \"imgep_source_policy_idx\": 5\n",
    "}\n",
    "files = None\n",
    "response = requests.patch(base_url+\"/\"+response[0][\"_id\"], json=request_dict, files=files)"
   ]
  },
  {
   "cell_type": "code",
   "execution_count": null,
   "id": "22ec816d-1211-421a-a10d-3ad73f380f72",
   "metadata": {},
   "outputs": [],
   "source": [
    "response"
   ]
  },
  {
   "cell_type": "code",
   "execution_count": null,
   "id": "66114293-3523-425e-87a3-e877bb945e44",
   "metadata": {},
   "outputs": [],
   "source": []
  }
 ],
 "metadata": {
  "kernelspec": {
   "display_name": "Python 3 (ipykernel)",
   "language": "python",
   "name": "python3"
  },
  "language_info": {
   "codemirror_mode": {
    "name": "ipython",
    "version": 3
   },
   "file_extension": ".py",
   "mimetype": "text/x-python",
   "name": "python",
   "nbconvert_exporter": "python",
   "pygments_lexer": "ipython3",
   "version": "3.9.12"
  },
  "vscode": {
   "interpreter": {
    "hash": "d11c67fcf13f901f345974f8c8d90ccdaeb0a147de3a91d1a1056d35f61828fc"
   }
  }
 },
 "nbformat": 4,
 "nbformat_minor": 5
}
