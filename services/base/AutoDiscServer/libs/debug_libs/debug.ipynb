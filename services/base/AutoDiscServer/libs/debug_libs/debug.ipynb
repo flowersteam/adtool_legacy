{
 "cells": [
  {
   "cell_type": "code",
   "execution_count": 2,
   "metadata": {},
   "outputs": [],
   "source": [
    "import sys\n",
    "\n",
    "sys.path.append('..')"
   ]
  },
  {
   "cell_type": "code",
   "execution_count": 5,
   "metadata": {},
   "outputs": [],
   "source": [
    "import adtool_default"
   ]
  },
  {
   "cell_type": "code",
   "execution_count": 11,
   "metadata": {},
   "outputs": [
    {
     "name": "stdout",
     "output_type": "stream",
     "text": [
      "Traceback (most recent call last):\n",
      "  File \"<frozen runpy>\", line 198, in _run_module_as_main\n",
      "  File \"<frozen runpy>\", line 88, in _run_code\n",
      "  File \"/home/flowers-user/anaconda3/envs/adtool/lib/python3.11/unittest/__main__.py\", line 18, in <module>\n",
      "    main(module=None)\n",
      "  File \"/home/flowers-user/anaconda3/envs/adtool/lib/python3.11/unittest/main.py\", line 101, in __init__\n",
      "    self.parseArgs(argv)\n",
      "  File \"/home/flowers-user/anaconda3/envs/adtool/lib/python3.11/unittest/main.py\", line 150, in parseArgs\n",
      "    self.createTests()\n",
      "  File \"/home/flowers-user/anaconda3/envs/adtool/lib/python3.11/unittest/main.py\", line 161, in createTests\n",
      "    self.test = self.testLoader.loadTestsFromNames(self.testNames,\n",
      "                ^^^^^^^^^^^^^^^^^^^^^^^^^^^^^^^^^^^^^^^^^^^^^^^^^^\n",
      "  File \"/home/flowers-user/anaconda3/envs/adtool/lib/python3.11/unittest/loader.py\", line 232, in loadTestsFromNames\n",
      "    suites = [self.loadTestsFromName(name, module) for name in names]\n",
      "             ^^^^^^^^^^^^^^^^^^^^^^^^^^^^^^^^^^^^^^^^^^^^^^^^^^^^^^^^\n",
      "  File \"/home/flowers-user/anaconda3/envs/adtool/lib/python3.11/unittest/loader.py\", line 232, in <listcomp>\n",
      "    suites = [self.loadTestsFromName(name, module) for name in names]\n",
      "              ^^^^^^^^^^^^^^^^^^^^^^^^^^^^^^^^^^^^\n",
      "  File \"/home/flowers-user/anaconda3/envs/adtool/lib/python3.11/unittest/loader.py\", line 162, in loadTestsFromName\n",
      "    module = __import__(module_name)\n",
      "             ^^^^^^^^^^^^^^^^^^^^^^^\n",
      "ValueError: Empty module name\n"
     ]
    }
   ],
   "source": [
    "!python3 -m unittest ."
   ]
  },
  {
   "cell_type": "code",
   "execution_count": null,
   "metadata": {},
   "outputs": [],
   "source": []
  }
 ],
 "metadata": {
  "kernelspec": {
   "display_name": "adtool",
   "language": "python",
   "name": "python3"
  },
  "language_info": {
   "codemirror_mode": {
    "name": "ipython",
    "version": 3
   },
   "file_extension": ".py",
   "mimetype": "text/x-python",
   "name": "python",
   "nbconvert_exporter": "python",
   "pygments_lexer": "ipython3",
   "version": "3.11.8"
  }
 },
 "nbformat": 4,
 "nbformat_minor": 2
}
